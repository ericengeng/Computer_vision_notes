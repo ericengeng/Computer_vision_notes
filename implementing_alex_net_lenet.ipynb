{
  "nbformat": 4,
  "nbformat_minor": 0,
  "metadata": {
    "colab": {
      "provenance": [],
      "gpuType": "T4"
    },
    "kernelspec": {
      "name": "python3",
      "display_name": "Python 3"
    },
    "language_info": {
      "name": "python"
    },
    "accelerator": "GPU"
  },
  "cells": [
    {
      "cell_type": "code",
      "execution_count": null,
      "metadata": {
        "colab": {
          "base_uri": "https://localhost:8080/"
        },
        "id": "uxsbG7LhYY36",
        "outputId": "b5cbeb2c-60e9-4b2e-b18b-3f044171a15c"
      },
      "outputs": [
        {
          "output_type": "stream",
          "name": "stdout",
          "text": [
            "Downloading data from https://storage.googleapis.com/tensorflow/tf-keras-datasets/mnist.npz\n",
            "11490434/11490434 [==============================] - 2s 0us/step\n"
          ]
        }
      ],
      "source": [
        "from tensorflow.keras.preprocessing.image import ImageDataGenerator\n",
        "from tensorflow.keras.models import Sequential\n",
        "from tensorflow.keras.layers import Dense, Dropout, Activation, Flatten, Conv2D, MaxPooling2D, ZeroPadding2D, BatchNormalization\n",
        "from tensorflow.keras.regularizers import l2\n",
        "from tensorflow.keras.datasets import mnist\n",
        "from tensorflow.keras.utils import to_categorical\n",
        "from tensorflow.keras.optimizers import Adadelta\n",
        "\n",
        "(x_train, y_train), (x_test, y_test) = mnist.load_data()\n",
        "\n",
        "img_rows = x_train[0].shape[0]\n",
        "img_cols = x_train[1].shape[0]\n",
        "\n",
        "x_train = x_train.reshape(x_train.shape[0], img_rows, img_cols,1)\n",
        "x_test = x_test.reshape(x_test.shape[0], img_rows, img_cols,1)\n",
        "\n",
        "input_shape = (img_rows, img_cols,1)\n",
        "\n",
        "x_train = x_train.astype('float32')\n",
        "x_test = x_test.astype('float32')\n",
        "\n",
        "x_train /= 255.0\n",
        "x_test /= 255.0\n",
        "\n",
        "y_train = to_categorical(y_train)\n",
        "y_test = to_categorical(y_test)\n",
        "\n",
        "num_classes = y_test.shape[1]\n",
        "num_pixels = x_train.shape[1]*x_train.shape[2]"
      ]
    },
    {
      "cell_type": "markdown",
      "source": [
        "# Replicating LeNet"
      ],
      "metadata": {
        "id": "8m2QCPrVauyH"
      }
    },
    {
      "cell_type": "code",
      "source": [
        "model = Sequential()\n",
        "\n",
        "model.add(Conv2D(6, (5,5),\n",
        "          padding='same',\n",
        "          input_shape = input_shape))\n",
        "\n",
        "model.add(Activation(\"relu\"))\n",
        "model.add(MaxPooling2D(pool_size = (2,2), strides = (2,2)))\n",
        "\n",
        "model.add(Conv2D(16, (5,5),\n",
        "          padding='same'))\n",
        "model.add(Activation(\"relu\"))\n",
        "model.add(MaxPooling2D(pool_size = (2,2), strides = (2,2)))\n",
        "\n",
        "model.add(Conv2D(120, (5,5),\n",
        "          padding='same'))\n",
        "model.add(Activation(\"relu\"))\n",
        "model.add(MaxPooling2D(pool_size = (2,2), strides = (2,2)))\n",
        "\n",
        "model.add(Flatten())\n",
        "model.add(Dense(120))\n",
        "model.add(Activation(\"relu\"))\n",
        "\n",
        "model.add(Dense(84))\n",
        "model.add(Activation(\"relu\"))\n",
        "model.add(Dense(num_classes))\n",
        "model.add(Activation(\"softmax\"))\n",
        "\n",
        "model.compile(loss ='categorical_crossentropy',\n",
        "              optimizer = Adadelta(),\n",
        "              metrics = ['accuracy'])\n",
        "\n",
        "print(model.summary())"
      ],
      "metadata": {
        "colab": {
          "base_uri": "https://localhost:8080/"
        },
        "id": "egMGlCKuag8K",
        "outputId": "a16cc4d1-6331-42fe-ea6d-d3f49d68b30f"
      },
      "execution_count": null,
      "outputs": [
        {
          "output_type": "stream",
          "name": "stdout",
          "text": [
            "Model: \"sequential\"\n",
            "_________________________________________________________________\n",
            " Layer (type)                Output Shape              Param #   \n",
            "=================================================================\n",
            " conv2d (Conv2D)             (None, 28, 28, 6)         156       \n",
            "                                                                 \n",
            " activation (Activation)     (None, 28, 28, 6)         0         \n",
            "                                                                 \n",
            " max_pooling2d (MaxPooling2D  (None, 14, 14, 6)        0         \n",
            " )                                                               \n",
            "                                                                 \n",
            " conv2d_1 (Conv2D)           (None, 14, 14, 16)        2416      \n",
            "                                                                 \n",
            " activation_1 (Activation)   (None, 14, 14, 16)        0         \n",
            "                                                                 \n",
            " max_pooling2d_1 (MaxPooling  (None, 7, 7, 16)         0         \n",
            " 2D)                                                             \n",
            "                                                                 \n",
            " conv2d_2 (Conv2D)           (None, 7, 7, 120)         48120     \n",
            "                                                                 \n",
            " activation_2 (Activation)   (None, 7, 7, 120)         0         \n",
            "                                                                 \n",
            " max_pooling2d_2 (MaxPooling  (None, 3, 3, 120)        0         \n",
            " 2D)                                                             \n",
            "                                                                 \n",
            " flatten (Flatten)           (None, 1080)              0         \n",
            "                                                                 \n",
            " dense (Dense)               (None, 120)               129720    \n",
            "                                                                 \n",
            " activation_3 (Activation)   (None, 120)               0         \n",
            "                                                                 \n",
            " dense_1 (Dense)             (None, 84)                10164     \n",
            "                                                                 \n",
            " activation_4 (Activation)   (None, 84)                0         \n",
            "                                                                 \n",
            " dense_2 (Dense)             (None, 10)                850       \n",
            "                                                                 \n",
            " activation_5 (Activation)   (None, 10)                0         \n",
            "                                                                 \n",
            "=================================================================\n",
            "Total params: 191,426\n",
            "Trainable params: 191,426\n",
            "Non-trainable params: 0\n",
            "_________________________________________________________________\n",
            "None\n"
          ]
        }
      ]
    },
    {
      "cell_type": "code",
      "source": [
        "batch_size = 128\n",
        "epochs = 50\n",
        "\n",
        "history = model.fit(x_train, y_train,\n",
        "                    batch_size=batch_size,\n",
        "                    epochs=epochs,\n",
        "                    validation_data =(x_test, y_test),\n",
        "                    shuffle=True)\n",
        "\n",
        "model.save(\"mnist_LeNet.h5\")\n",
        "\n",
        "scores=model.evaluate(x_test, y_test, verbose=1)\n",
        "print('Test loss:', scores[0])\n",
        "print('Test accuracy', scores[1])"
      ],
      "metadata": {
        "colab": {
          "base_uri": "https://localhost:8080/"
        },
        "id": "K2F4RsdzbxUp",
        "outputId": "2d10625c-5991-462a-f8d2-43a69f24dfc8"
      },
      "execution_count": null,
      "outputs": [
        {
          "output_type": "stream",
          "name": "stdout",
          "text": [
            "Epoch 1/50\n",
            "469/469 [==============================] - 3s 6ms/step - loss: 2.1536 - accuracy: 0.3778 - val_loss: 2.1311 - val_accuracy: 0.3745\n",
            "Epoch 2/50\n",
            "469/469 [==============================] - 3s 6ms/step - loss: 2.1060 - accuracy: 0.3954 - val_loss: 2.0759 - val_accuracy: 0.3982\n",
            "Epoch 3/50\n",
            "469/469 [==============================] - 3s 6ms/step - loss: 2.0430 - accuracy: 0.4228 - val_loss: 2.0036 - val_accuracy: 0.4234\n",
            "Epoch 4/50\n",
            "469/469 [==============================] - 2s 5ms/step - loss: 1.9615 - accuracy: 0.4464 - val_loss: 1.9112 - val_accuracy: 0.4564\n",
            "Epoch 5/50\n",
            "469/469 [==============================] - 2s 5ms/step - loss: 1.8591 - accuracy: 0.4787 - val_loss: 1.7971 - val_accuracy: 0.4878\n",
            "Epoch 6/50\n",
            "469/469 [==============================] - 3s 6ms/step - loss: 1.7358 - accuracy: 0.5183 - val_loss: 1.6634 - val_accuracy: 0.5361\n",
            "Epoch 7/50\n",
            "469/469 [==============================] - 3s 6ms/step - loss: 1.5957 - accuracy: 0.5863 - val_loss: 1.5159 - val_accuracy: 0.6279\n",
            "Epoch 8/50\n",
            "469/469 [==============================] - 3s 5ms/step - loss: 1.4463 - accuracy: 0.6738 - val_loss: 1.3634 - val_accuracy: 0.7143\n",
            "Epoch 9/50\n",
            "469/469 [==============================] - 2s 5ms/step - loss: 1.2962 - accuracy: 0.7405 - val_loss: 1.2145 - val_accuracy: 0.7687\n",
            "Epoch 10/50\n",
            "469/469 [==============================] - 2s 5ms/step - loss: 1.1544 - accuracy: 0.7795 - val_loss: 1.0778 - val_accuracy: 0.8003\n",
            "Epoch 11/50\n",
            "469/469 [==============================] - 3s 6ms/step - loss: 1.0296 - accuracy: 0.8001 - val_loss: 0.9615 - val_accuracy: 0.8140\n",
            "Epoch 12/50\n",
            "469/469 [==============================] - 2s 5ms/step - loss: 0.9249 - accuracy: 0.8116 - val_loss: 0.8657 - val_accuracy: 0.8242\n",
            "Epoch 13/50\n",
            "469/469 [==============================] - 2s 5ms/step - loss: 0.8402 - accuracy: 0.8210 - val_loss: 0.7895 - val_accuracy: 0.8298\n",
            "Epoch 14/50\n",
            "469/469 [==============================] - 2s 5ms/step - loss: 0.7725 - accuracy: 0.8275 - val_loss: 0.7280 - val_accuracy: 0.8365\n",
            "Epoch 15/50\n",
            "469/469 [==============================] - 2s 5ms/step - loss: 0.7178 - accuracy: 0.8335 - val_loss: 0.6787 - val_accuracy: 0.8445\n",
            "Epoch 16/50\n",
            "469/469 [==============================] - 3s 7ms/step - loss: 0.6733 - accuracy: 0.8391 - val_loss: 0.6379 - val_accuracy: 0.8496\n",
            "Epoch 17/50\n",
            "469/469 [==============================] - 2s 5ms/step - loss: 0.6360 - accuracy: 0.8452 - val_loss: 0.6033 - val_accuracy: 0.8564\n",
            "Epoch 18/50\n",
            "469/469 [==============================] - 2s 5ms/step - loss: 0.6042 - accuracy: 0.8505 - val_loss: 0.5736 - val_accuracy: 0.8614\n",
            "Epoch 19/50\n",
            "469/469 [==============================] - 2s 5ms/step - loss: 0.5770 - accuracy: 0.8552 - val_loss: 0.5479 - val_accuracy: 0.8657\n",
            "Epoch 20/50\n",
            "469/469 [==============================] - 3s 5ms/step - loss: 0.5531 - accuracy: 0.8599 - val_loss: 0.5255 - val_accuracy: 0.8694\n",
            "Epoch 21/50\n",
            "469/469 [==============================] - 3s 6ms/step - loss: 0.5318 - accuracy: 0.8642 - val_loss: 0.5050 - val_accuracy: 0.8737\n",
            "Epoch 22/50\n",
            "469/469 [==============================] - 2s 5ms/step - loss: 0.5121 - accuracy: 0.8684 - val_loss: 0.4868 - val_accuracy: 0.8761\n",
            "Epoch 23/50\n",
            "469/469 [==============================] - 2s 5ms/step - loss: 0.4946 - accuracy: 0.8722 - val_loss: 0.4692 - val_accuracy: 0.8810\n",
            "Epoch 24/50\n",
            "469/469 [==============================] - 3s 5ms/step - loss: 0.4783 - accuracy: 0.8755 - val_loss: 0.4536 - val_accuracy: 0.8846\n",
            "Epoch 25/50\n",
            "469/469 [==============================] - 3s 6ms/step - loss: 0.4635 - accuracy: 0.8784 - val_loss: 0.4392 - val_accuracy: 0.8876\n",
            "Epoch 26/50\n",
            "469/469 [==============================] - 3s 6ms/step - loss: 0.4499 - accuracy: 0.8817 - val_loss: 0.4262 - val_accuracy: 0.8904\n",
            "Epoch 27/50\n",
            "469/469 [==============================] - 2s 5ms/step - loss: 0.4371 - accuracy: 0.8840 - val_loss: 0.4138 - val_accuracy: 0.8938\n",
            "Epoch 28/50\n",
            "469/469 [==============================] - 3s 5ms/step - loss: 0.4253 - accuracy: 0.8868 - val_loss: 0.4022 - val_accuracy: 0.8960\n",
            "Epoch 29/50\n",
            "469/469 [==============================] - 3s 6ms/step - loss: 0.4141 - accuracy: 0.8900 - val_loss: 0.3912 - val_accuracy: 0.8968\n",
            "Epoch 30/50\n",
            "469/469 [==============================] - 3s 7ms/step - loss: 0.4037 - accuracy: 0.8918 - val_loss: 0.3812 - val_accuracy: 0.9004\n",
            "Epoch 31/50\n",
            "469/469 [==============================] - 2s 5ms/step - loss: 0.3938 - accuracy: 0.8942 - val_loss: 0.3717 - val_accuracy: 0.9027\n",
            "Epoch 32/50\n",
            "469/469 [==============================] - 2s 5ms/step - loss: 0.3845 - accuracy: 0.8966 - val_loss: 0.3627 - val_accuracy: 0.9041\n",
            "Epoch 33/50\n",
            "469/469 [==============================] - 2s 5ms/step - loss: 0.3757 - accuracy: 0.8983 - val_loss: 0.3539 - val_accuracy: 0.9057\n",
            "Epoch 34/50\n",
            "469/469 [==============================] - 3s 6ms/step - loss: 0.3674 - accuracy: 0.9000 - val_loss: 0.3459 - val_accuracy: 0.9077\n",
            "Epoch 35/50\n",
            "469/469 [==============================] - 3s 6ms/step - loss: 0.3594 - accuracy: 0.9015 - val_loss: 0.3382 - val_accuracy: 0.9098\n",
            "Epoch 36/50\n",
            "469/469 [==============================] - 2s 5ms/step - loss: 0.3520 - accuracy: 0.9037 - val_loss: 0.3315 - val_accuracy: 0.9101\n",
            "Epoch 37/50\n",
            "469/469 [==============================] - 2s 5ms/step - loss: 0.3449 - accuracy: 0.9056 - val_loss: 0.3243 - val_accuracy: 0.9118\n",
            "Epoch 38/50\n",
            "469/469 [==============================] - 2s 5ms/step - loss: 0.3382 - accuracy: 0.9067 - val_loss: 0.3184 - val_accuracy: 0.9129\n",
            "Epoch 39/50\n",
            "469/469 [==============================] - 3s 6ms/step - loss: 0.3319 - accuracy: 0.9085 - val_loss: 0.3116 - val_accuracy: 0.9142\n",
            "Epoch 40/50\n",
            "469/469 [==============================] - 3s 6ms/step - loss: 0.3258 - accuracy: 0.9100 - val_loss: 0.3059 - val_accuracy: 0.9159\n",
            "Epoch 41/50\n",
            "469/469 [==============================] - 3s 5ms/step - loss: 0.3200 - accuracy: 0.9111 - val_loss: 0.3001 - val_accuracy: 0.9174\n",
            "Epoch 42/50\n",
            "469/469 [==============================] - 3s 5ms/step - loss: 0.3145 - accuracy: 0.9122 - val_loss: 0.2947 - val_accuracy: 0.9183\n",
            "Epoch 43/50\n",
            "469/469 [==============================] - 3s 5ms/step - loss: 0.3092 - accuracy: 0.9139 - val_loss: 0.2894 - val_accuracy: 0.9193\n",
            "Epoch 44/50\n",
            "469/469 [==============================] - 3s 6ms/step - loss: 0.3040 - accuracy: 0.9147 - val_loss: 0.2846 - val_accuracy: 0.9216\n",
            "Epoch 45/50\n",
            "469/469 [==============================] - 3s 6ms/step - loss: 0.2991 - accuracy: 0.9163 - val_loss: 0.2801 - val_accuracy: 0.9226\n",
            "Epoch 46/50\n",
            "469/469 [==============================] - 3s 7ms/step - loss: 0.2945 - accuracy: 0.9171 - val_loss: 0.2754 - val_accuracy: 0.9243\n",
            "Epoch 47/50\n",
            "469/469 [==============================] - 3s 6ms/step - loss: 0.2900 - accuracy: 0.9184 - val_loss: 0.2710 - val_accuracy: 0.9251\n",
            "Epoch 48/50\n",
            "469/469 [==============================] - 3s 7ms/step - loss: 0.2857 - accuracy: 0.9196 - val_loss: 0.2669 - val_accuracy: 0.9269\n",
            "Epoch 49/50\n",
            "469/469 [==============================] - 3s 6ms/step - loss: 0.2816 - accuracy: 0.9207 - val_loss: 0.2631 - val_accuracy: 0.9267\n",
            "Epoch 50/50\n",
            "469/469 [==============================] - 3s 5ms/step - loss: 0.2777 - accuracy: 0.9215 - val_loss: 0.2591 - val_accuracy: 0.9288\n",
            "313/313 [==============================] - 1s 3ms/step - loss: 0.2591 - accuracy: 0.9288\n",
            "Test loss: 0.25910699367523193\n",
            "Test accuracy 0.9287999868392944\n"
          ]
        }
      ]
    },
    {
      "cell_type": "markdown",
      "source": [
        "# AlexNet"
      ],
      "metadata": {
        "id": "5DnYvd8_gUI9"
      }
    },
    {
      "cell_type": "code",
      "source": [
        "from tensorflow.keras.datasets import cifar10"
      ],
      "metadata": {
        "id": "NGms1wTKftmo"
      },
      "execution_count": null,
      "outputs": []
    },
    {
      "cell_type": "code",
      "source": [
        "(x_train, y_train), (x_test, y_test) = cifar10.load_data()"
      ],
      "metadata": {
        "colab": {
          "base_uri": "https://localhost:8080/"
        },
        "id": "jQxZqfJdgkQY",
        "outputId": "e02c8023-8fa6-415a-8b57-82e870488d16"
      },
      "execution_count": null,
      "outputs": [
        {
          "output_type": "stream",
          "name": "stdout",
          "text": [
            "Downloading data from https://www.cs.toronto.edu/~kriz/cifar-10-python.tar.gz\n",
            "170498071/170498071 [==============================] - 13s 0us/step\n"
          ]
        }
      ]
    },
    {
      "cell_type": "code",
      "source": [
        "print('x_train shape', x_train.shape)\n",
        "print(x_train.shape[0], 'train samples')\n",
        "print(x_test.shape[0], 'test samples')\n",
        "\n",
        "num_classes = 10\n",
        "\n",
        "y_train = to_categorical(y_train, num_classes)\n",
        "y_test = to_categorical(y_test, num_classes)"
      ],
      "metadata": {
        "colab": {
          "base_uri": "https://localhost:8080/"
        },
        "id": "mFp2ZxJFgpkb",
        "outputId": "f2cf0804-75ce-4951-b509-97a34bf0f8d8"
      },
      "execution_count": null,
      "outputs": [
        {
          "output_type": "stream",
          "name": "stdout",
          "text": [
            "x_train shape (50000, 32, 32, 3)\n",
            "50000 train samples\n",
            "10000 test samples\n"
          ]
        }
      ]
    },
    {
      "cell_type": "code",
      "source": [
        "l2_reg=0.001\n",
        "\n",
        "model=Sequential()\n",
        "\n",
        "model.add(Conv2D(96, (11,11), input_shape=x_train.shape[1:],\n",
        "                 padding='same', kernel_regularizer=l2(l2_reg)))\n",
        "model.add(BatchNormalization())\n",
        "model.add(Activation('relu'))\n",
        "model.add(MaxPooling2D(pool_size=(2,2)))\n",
        "\n",
        "model.add(Conv2D(256, (5,5), padding='same'))\n",
        "model.add(BatchNormalization())\n",
        "model.add(Activation('relu'))\n",
        "model.add(MaxPooling2D(pool_size=(2,2)))\n",
        "\n",
        "model.add(ZeroPadding2D((1,1)))\n",
        "model.add(Conv2D(512, (3,3), padding='same'))\n",
        "model.add(BatchNormalization())\n",
        "model.add(Activation('relu'))\n",
        "model.add(MaxPooling2D(pool_size=(2,2)))\n",
        "\n",
        "model.add(ZeroPadding2D((1,1)))\n",
        "model.add(Conv2D(1024, (3,3), padding='same'))\n",
        "model.add(BatchNormalization())\n",
        "model.add(Activation('relu'))\n",
        "\n",
        "model.add(ZeroPadding2D((1,1)))\n",
        "model.add(Conv2D(1024, (3,3), padding='same'))\n",
        "model.add(BatchNormalization())\n",
        "model.add(Activation('relu'))\n",
        "model.add(MaxPooling2D(pool_size=(2,2)))\n",
        "\n",
        "model.add(Flatten())\n",
        "model.add(Dense(3072))\n",
        "model.add(BatchNormalization())\n",
        "model.add(Activation(\"relu\"))\n",
        "model.add(Dropout(0.5))\n",
        "\n",
        "model.add(Dense(4096))\n",
        "model.add(BatchNormalization())\n",
        "model.add(Activation(\"relu\"))\n",
        "model.add(Dropout(0.5))\n",
        "\n",
        "model.add(Dense(num_classes))\n",
        "model.add(BatchNormalization())\n",
        "model.add(Activation(\"softmax\"))\n",
        "\n",
        "print(model.summary())\n",
        "\n",
        "model.compile(loss='categorical_crossentropy',\n",
        "              optimizer=Adadelta(),\n",
        "              metrics = ['accuracy'])"
      ],
      "metadata": {
        "colab": {
          "base_uri": "https://localhost:8080/"
        },
        "id": "Zp5mDuvXhACa",
        "outputId": "746a4eb0-4e54-4326-e5ec-6718c2066dcd"
      },
      "execution_count": null,
      "outputs": [
        {
          "output_type": "stream",
          "name": "stdout",
          "text": [
            "Model: \"sequential_1\"\n",
            "_________________________________________________________________\n",
            " Layer (type)                Output Shape              Param #   \n",
            "=================================================================\n",
            " conv2d_3 (Conv2D)           (None, 32, 32, 96)        34944     \n",
            "                                                                 \n",
            " batch_normalization (BatchN  (None, 32, 32, 96)       384       \n",
            " ormalization)                                                   \n",
            "                                                                 \n",
            " activation_6 (Activation)   (None, 32, 32, 96)        0         \n",
            "                                                                 \n",
            " max_pooling2d_3 (MaxPooling  (None, 16, 16, 96)       0         \n",
            " 2D)                                                             \n",
            "                                                                 \n",
            " conv2d_4 (Conv2D)           (None, 16, 16, 256)       614656    \n",
            "                                                                 \n",
            " batch_normalization_1 (Batc  (None, 16, 16, 256)      1024      \n",
            " hNormalization)                                                 \n",
            "                                                                 \n",
            " activation_7 (Activation)   (None, 16, 16, 256)       0         \n",
            "                                                                 \n",
            " max_pooling2d_4 (MaxPooling  (None, 8, 8, 256)        0         \n",
            " 2D)                                                             \n",
            "                                                                 \n",
            " zero_padding2d (ZeroPadding  (None, 10, 10, 256)      0         \n",
            " 2D)                                                             \n",
            "                                                                 \n",
            " conv2d_5 (Conv2D)           (None, 10, 10, 512)       1180160   \n",
            "                                                                 \n",
            " batch_normalization_2 (Batc  (None, 10, 10, 512)      2048      \n",
            " hNormalization)                                                 \n",
            "                                                                 \n",
            " activation_8 (Activation)   (None, 10, 10, 512)       0         \n",
            "                                                                 \n",
            " max_pooling2d_5 (MaxPooling  (None, 5, 5, 512)        0         \n",
            " 2D)                                                             \n",
            "                                                                 \n",
            " zero_padding2d_1 (ZeroPaddi  (None, 7, 7, 512)        0         \n",
            " ng2D)                                                           \n",
            "                                                                 \n",
            " conv2d_6 (Conv2D)           (None, 7, 7, 1024)        4719616   \n",
            "                                                                 \n",
            " batch_normalization_3 (Batc  (None, 7, 7, 1024)       4096      \n",
            " hNormalization)                                                 \n",
            "                                                                 \n",
            " activation_9 (Activation)   (None, 7, 7, 1024)        0         \n",
            "                                                                 \n",
            " zero_padding2d_2 (ZeroPaddi  (None, 9, 9, 1024)       0         \n",
            " ng2D)                                                           \n",
            "                                                                 \n",
            " conv2d_7 (Conv2D)           (None, 9, 9, 1024)        9438208   \n",
            "                                                                 \n",
            " batch_normalization_4 (Batc  (None, 9, 9, 1024)       4096      \n",
            " hNormalization)                                                 \n",
            "                                                                 \n",
            " activation_10 (Activation)  (None, 9, 9, 1024)        0         \n",
            "                                                                 \n",
            " max_pooling2d_6 (MaxPooling  (None, 4, 4, 1024)       0         \n",
            " 2D)                                                             \n",
            "                                                                 \n",
            " flatten_1 (Flatten)         (None, 16384)             0         \n",
            "                                                                 \n",
            " dense_3 (Dense)             (None, 3072)              50334720  \n",
            "                                                                 \n",
            " batch_normalization_5 (Batc  (None, 3072)             12288     \n",
            " hNormalization)                                                 \n",
            "                                                                 \n",
            " activation_11 (Activation)  (None, 3072)              0         \n",
            "                                                                 \n",
            " dropout (Dropout)           (None, 3072)              0         \n",
            "                                                                 \n",
            " dense_4 (Dense)             (None, 4096)              12587008  \n",
            "                                                                 \n",
            " batch_normalization_6 (Batc  (None, 4096)             16384     \n",
            " hNormalization)                                                 \n",
            "                                                                 \n",
            " activation_12 (Activation)  (None, 4096)              0         \n",
            "                                                                 \n",
            " dropout_1 (Dropout)         (None, 4096)              0         \n",
            "                                                                 \n",
            " dense_5 (Dense)             (None, 10)                40970     \n",
            "                                                                 \n",
            " batch_normalization_7 (Batc  (None, 10)               40        \n",
            " hNormalization)                                                 \n",
            "                                                                 \n",
            " activation_13 (Activation)  (None, 10)                0         \n",
            "                                                                 \n",
            "=================================================================\n",
            "Total params: 78,990,642\n",
            "Trainable params: 78,970,462\n",
            "Non-trainable params: 20,180\n",
            "_________________________________________________________________\n",
            "None\n"
          ]
        }
      ]
    },
    {
      "cell_type": "code",
      "source": [
        "batch_size=64\n",
        "epochs=25\n",
        "\n",
        "history = model.fit(x_train,\n",
        "                    y_train,\n",
        "                    batch_size =batch_size,\n",
        "                    epochs=epochs,\n",
        "                    validation_data=(x_test,y_test),\n",
        "                    shuffle=True\n",
        "                  )\n",
        "model.save(\"cifar10_AlexNet\")\n",
        "scores=model.evaluate(x_test,y_test, verbose=1)\n",
        "print(scores[0], scores[1])"
      ],
      "metadata": {
        "colab": {
          "base_uri": "https://localhost:8080/"
        },
        "id": "cEwpTeDthYGW",
        "outputId": "77e56bf5-5a60-4d83-b249-6f9e8c3e3de2"
      },
      "execution_count": null,
      "outputs": [
        {
          "output_type": "stream",
          "name": "stdout",
          "text": [
            "Epoch 1/25\n",
            "782/782 [==============================] - 89s 103ms/step - loss: 2.1144 - accuracy: 0.2498 - val_loss: 1.7584 - val_accuracy: 0.3935\n",
            "Epoch 2/25\n",
            "782/782 [==============================] - 79s 102ms/step - loss: 1.8353 - accuracy: 0.3460 - val_loss: 1.6635 - val_accuracy: 0.4330\n",
            "Epoch 3/25\n",
            "782/782 [==============================] - 79s 102ms/step - loss: 1.7376 - accuracy: 0.3896 - val_loss: 1.5995 - val_accuracy: 0.4570\n",
            "Epoch 4/25\n",
            "782/782 [==============================] - 79s 101ms/step - loss: 1.6726 - accuracy: 0.4164 - val_loss: 1.5518 - val_accuracy: 0.4763\n",
            "Epoch 5/25\n",
            "782/782 [==============================] - 79s 102ms/step - loss: 1.6219 - accuracy: 0.4381 - val_loss: 1.5148 - val_accuracy: 0.4917\n",
            "Epoch 6/25\n",
            "782/782 [==============================] - 79s 101ms/step - loss: 1.5837 - accuracy: 0.4568 - val_loss: 1.4859 - val_accuracy: 0.5056\n",
            "Epoch 7/25\n",
            "782/782 [==============================] - 79s 102ms/step - loss: 1.5526 - accuracy: 0.4741 - val_loss: 1.4610 - val_accuracy: 0.5170\n",
            "Epoch 8/25\n",
            "782/782 [==============================] - 78s 100ms/step - loss: 1.5243 - accuracy: 0.4883 - val_loss: 1.4377 - val_accuracy: 0.5255\n",
            "Epoch 9/25\n",
            "782/782 [==============================] - 79s 101ms/step - loss: 1.4985 - accuracy: 0.5008 - val_loss: 1.4206 - val_accuracy: 0.5332\n",
            "Epoch 10/25\n",
            "782/782 [==============================] - 78s 100ms/step - loss: 1.4770 - accuracy: 0.5121 - val_loss: 1.4055 - val_accuracy: 0.5406\n",
            "Epoch 11/25\n",
            "782/782 [==============================] - 80s 102ms/step - loss: 1.4542 - accuracy: 0.5215 - val_loss: 1.3934 - val_accuracy: 0.5478\n",
            "Epoch 12/25\n",
            "782/782 [==============================] - 80s 102ms/step - loss: 1.4346 - accuracy: 0.5307 - val_loss: 1.3794 - val_accuracy: 0.5574\n",
            "Epoch 13/25\n",
            "782/782 [==============================] - 79s 101ms/step - loss: 1.4152 - accuracy: 0.5412 - val_loss: 1.3652 - val_accuracy: 0.5606\n",
            "Epoch 14/25\n",
            "782/782 [==============================] - 80s 102ms/step - loss: 1.3985 - accuracy: 0.5473 - val_loss: 1.3544 - val_accuracy: 0.5665\n",
            "Epoch 15/25\n",
            "782/782 [==============================] - 80s 102ms/step - loss: 1.3816 - accuracy: 0.5580 - val_loss: 1.3438 - val_accuracy: 0.5694\n",
            "Epoch 16/25\n",
            "782/782 [==============================] - 80s 102ms/step - loss: 1.3646 - accuracy: 0.5668 - val_loss: 1.3352 - val_accuracy: 0.5744\n",
            "Epoch 17/25\n",
            "782/782 [==============================] - 79s 101ms/step - loss: 1.3493 - accuracy: 0.5736 - val_loss: 1.3246 - val_accuracy: 0.5796\n",
            "Epoch 18/25\n",
            "782/782 [==============================] - 80s 102ms/step - loss: 1.3342 - accuracy: 0.5814 - val_loss: 1.3151 - val_accuracy: 0.5849\n",
            "Epoch 19/25\n",
            "782/782 [==============================] - 79s 101ms/step - loss: 1.3197 - accuracy: 0.5908 - val_loss: 1.3066 - val_accuracy: 0.5881\n",
            "Epoch 20/25\n",
            "782/782 [==============================] - 79s 101ms/step - loss: 1.3052 - accuracy: 0.5955 - val_loss: 1.3020 - val_accuracy: 0.5906\n",
            "Epoch 21/25\n",
            "782/782 [==============================] - 80s 102ms/step - loss: 1.2912 - accuracy: 0.6049 - val_loss: 1.2927 - val_accuracy: 0.5982\n",
            "Epoch 22/25\n",
            "782/782 [==============================] - 80s 102ms/step - loss: 1.2799 - accuracy: 0.6091 - val_loss: 1.2833 - val_accuracy: 0.5981\n",
            "Epoch 23/25\n",
            "782/782 [==============================] - 80s 102ms/step - loss: 1.2660 - accuracy: 0.6180 - val_loss: 1.2774 - val_accuracy: 0.6027\n",
            "Epoch 24/25\n",
            "782/782 [==============================] - 80s 102ms/step - loss: 1.2541 - accuracy: 0.6219 - val_loss: 1.2719 - val_accuracy: 0.6056\n",
            "Epoch 25/25\n",
            "782/782 [==============================] - 80s 102ms/step - loss: 1.2428 - accuracy: 0.6300 - val_loss: 1.2639 - val_accuracy: 0.6114\n"
          ]
        },
        {
          "output_type": "stream",
          "name": "stderr",
          "text": [
            "WARNING:absl:Found untraced functions such as _jit_compiled_convolution_op, _jit_compiled_convolution_op, _jit_compiled_convolution_op, _jit_compiled_convolution_op, _jit_compiled_convolution_op while saving (showing 5 of 5). These functions will not be directly callable after loading.\n"
          ]
        },
        {
          "output_type": "stream",
          "name": "stdout",
          "text": [
            "313/313 [==============================] - 7s 19ms/step - loss: 1.2639 - accuracy: 0.6114\n",
            "1.263853907585144 0.6114000082015991\n"
          ]
        }
      ]
    },
    {
      "cell_type": "code",
      "source": [],
      "metadata": {
        "id": "hPJQ8GzolnEv"
      },
      "execution_count": null,
      "outputs": []
    }
  ]
}