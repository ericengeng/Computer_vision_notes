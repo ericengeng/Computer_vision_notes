{
  "cells": [
    {
      "cell_type": "code",
      "execution_count": null,
      "metadata": {
        "colab": {
          "base_uri": "https://localhost:8080/"
        },
        "id": "_oVjbZy2Kblq",
        "outputId": "5781ccc8-2d28-4c5a-df5f-98cb2fc1f6e0"
      },
      "outputs": [
        {
          "name": "stdout",
          "output_type": "stream",
          "text": [
            "Requirement already satisfied: imageio in /usr/local/lib/python3.10/dist-packages (2.25.1)\n",
            "Requirement already satisfied: numpy in /usr/local/lib/python3.10/dist-packages (from imageio) (1.22.4)\n",
            "Requirement already satisfied: pillow>=8.3.2 in /usr/local/lib/python3.10/dist-packages (from imageio) (8.4.0)\n",
            "Collecting git+https://github.com/tensorflow/docs\n",
            "  Cloning https://github.com/tensorflow/docs to /tmp/pip-req-build-3zae49wh\n",
            "  Running command git clone --filter=blob:none --quiet https://github.com/tensorflow/docs /tmp/pip-req-build-3zae49wh\n",
            "  Resolved https://github.com/tensorflow/docs to commit 40881b6e9c65d3cd164b391de055aeb60d2f51af\n",
            "  Preparing metadata (setup.py) ... \u001b[?25l\u001b[?25hdone\n",
            "Collecting astor (from tensorflow-docs==2023.5.26.9808)\n",
            "  Downloading astor-0.8.1-py2.py3-none-any.whl (27 kB)\n",
            "Requirement already satisfied: absl-py in /usr/local/lib/python3.10/dist-packages (from tensorflow-docs==2023.5.26.9808) (1.4.0)\n",
            "Requirement already satisfied: jinja2 in /usr/local/lib/python3.10/dist-packages (from tensorflow-docs==2023.5.26.9808) (3.1.2)\n",
            "Requirement already satisfied: nbformat in /usr/local/lib/python3.10/dist-packages (from tensorflow-docs==2023.5.26.9808) (5.9.0)\n",
            "Requirement already satisfied: protobuf>=3.12 in /usr/local/lib/python3.10/dist-packages (from tensorflow-docs==2023.5.26.9808) (3.20.3)\n",
            "Requirement already satisfied: pyyaml in /usr/local/lib/python3.10/dist-packages (from tensorflow-docs==2023.5.26.9808) (6.0)\n",
            "Requirement already satisfied: MarkupSafe>=2.0 in /usr/local/lib/python3.10/dist-packages (from jinja2->tensorflow-docs==2023.5.26.9808) (2.1.3)\n",
            "Requirement already satisfied: fastjsonschema in /usr/local/lib/python3.10/dist-packages (from nbformat->tensorflow-docs==2023.5.26.9808) (2.17.1)\n",
            "Requirement already satisfied: jsonschema>=2.6 in /usr/local/lib/python3.10/dist-packages (from nbformat->tensorflow-docs==2023.5.26.9808) (4.3.3)\n",
            "Requirement already satisfied: jupyter-core in /usr/local/lib/python3.10/dist-packages (from nbformat->tensorflow-docs==2023.5.26.9808) (5.3.1)\n",
            "Requirement already satisfied: traitlets>=5.1 in /usr/local/lib/python3.10/dist-packages (from nbformat->tensorflow-docs==2023.5.26.9808) (5.7.1)\n",
            "Requirement already satisfied: attrs>=17.4.0 in /usr/local/lib/python3.10/dist-packages (from jsonschema>=2.6->nbformat->tensorflow-docs==2023.5.26.9808) (23.1.0)\n",
            "Requirement already satisfied: pyrsistent!=0.17.0,!=0.17.1,!=0.17.2,>=0.14.0 in /usr/local/lib/python3.10/dist-packages (from jsonschema>=2.6->nbformat->tensorflow-docs==2023.5.26.9808) (0.19.3)\n",
            "Requirement already satisfied: platformdirs>=2.5 in /usr/local/lib/python3.10/dist-packages (from jupyter-core->nbformat->tensorflow-docs==2023.5.26.9808) (3.7.0)\n",
            "Building wheels for collected packages: tensorflow-docs\n",
            "  Building wheel for tensorflow-docs (setup.py) ... \u001b[?25l\u001b[?25hdone\n",
            "  Created wheel for tensorflow-docs: filename=tensorflow_docs-2023.5.26.9808-py3-none-any.whl size=183623 sha256=ca410dac3a39580be375cb820378cceae5ae7ca734762043a8fed2e75e46b019\n",
            "  Stored in directory: /tmp/pip-ephem-wheel-cache-0q6l3x0x/wheels/86/0f/1e/3b62293c8ffd0fd5a49508e6871cdb7554abe9c62afd35ec53\n",
            "Successfully built tensorflow-docs\n",
            "Installing collected packages: astor, tensorflow-docs\n",
            "Successfully installed astor-0.8.1 tensorflow-docs-2023.5.26.9808\n"
          ]
        }
      ],
      "source": [
        "!pip install imageio\n",
        "!pip install git+https://github.com/tensorflow/docs"
      ]
    },
    {
      "cell_type": "markdown",
      "metadata": {
        "id": "SuWGarRMjp0u"
      },
      "source": [
        "# Basic GAN"
      ]
    },
    {
      "cell_type": "code",
      "execution_count": null,
      "metadata": {
        "id": "9g56EHRULDD1"
      },
      "outputs": [],
      "source": [
        "import tensorflow as tf\n",
        "\n",
        "import glob\n",
        "import imageio\n",
        "import matplotlib.pyplot as plt\n",
        "import numpy as np\n",
        "import os\n",
        "import PIL\n",
        "from tensorflow.keras import layers\n",
        "import time\n",
        "from IPython import display"
      ]
    },
    {
      "cell_type": "code",
      "execution_count": null,
      "metadata": {
        "colab": {
          "base_uri": "https://localhost:8080/"
        },
        "id": "ku5Gl4exLRXH",
        "outputId": "858db7ca-2fd5-45f8-ee8b-4e6fd3e6994d"
      },
      "outputs": [
        {
          "name": "stdout",
          "output_type": "stream",
          "text": [
            "Downloading data from https://storage.googleapis.com/tensorflow/tf-keras-datasets/mnist.npz\n",
            "11490434/11490434 [==============================] - 2s 0us/step\n"
          ]
        }
      ],
      "source": [
        "(train_images, train_labels), (_,_) = tf.keras.datasets.mnist.load_data()\n",
        "\n",
        "train_images = train_images.reshape(train_images.shape[0], 28,28,1)\n",
        "train_images = (train_images - 127.5)/127.5\n"
      ]
    },
    {
      "cell_type": "code",
      "execution_count": null,
      "metadata": {
        "id": "3P2wvDOOLnLt"
      },
      "outputs": [],
      "source": [
        "BUFFER_SIZE = 60000\n",
        "BATCH_SIZE = 256\n",
        "\n",
        "train_dataset = tf.data.Dataset.from_tensor_slices(train_images).shuffle(BUFFER_SIZE).batch(BATCH_SIZE)\n"
      ]
    },
    {
      "cell_type": "code",
      "execution_count": null,
      "metadata": {
        "id": "3grLpjtzL0Wj"
      },
      "outputs": [],
      "source": [
        "def make_generator_model():\n",
        "  model = tf.keras.Sequential()\n",
        "  model.add(layers.Dense(7*7*256, use_bias=False, input_shape=(100,)))\n",
        "  model.add(layers.BatchNormalization())\n",
        "  model.add(layers.LeakyReLU())\n",
        "\n",
        "  model.add(layers.Reshape((7,7,256)))\n",
        "  assert model.output_shape == (None, 7,7,256)\n",
        "\n",
        "  model.add(layers.Conv2DTranspose(128, (5,5), strides=(1,1), padding='same', use_bias=False))\n",
        "  assert model.output_shape == (None, 7,7,128)\n",
        "  model.add(layers.BatchNormalization())\n",
        "  model.add(layers.LeakyReLU())\n",
        "\n",
        "  model.add(layers.Conv2DTranspose(64, (5,5), strides=(2,2), padding='same', use_bias=False))\n",
        "  assert model.output_shape == (None, 14,14,64)\n",
        "  model.add(layers.BatchNormalization())\n",
        "  model.add(layers.LeakyReLU())\n",
        "\n",
        "  model.add(layers.Conv2DTranspose(1, (5,5), strides=(2,2), padding='same', use_bias=False, activation= 'tanh'))\n",
        "  assert model.output_shape == (None, 28,28,1)\n",
        "\n",
        "  return model"
      ]
    },
    {
      "cell_type": "code",
      "execution_count": null,
      "metadata": {
        "colab": {
          "base_uri": "https://localhost:8080/",
          "height": 447
        },
        "id": "KB13bd8YNUpR",
        "outputId": "cb2d1cc0-b104-4f5d-ae44-721d32e999ed"
      },
      "outputs": [
        {
          "data": {
            "text/plain": [
              "<matplotlib.image.AxesImage at 0x7f4f1452d570>"
            ]
          },
          "execution_count": 6,
          "metadata": {},
          "output_type": "execute_result"
        },
        {
          "data": {
            "image/png": "[encoded data removed]",
            "text/plain": [
              "<Figure size 640x480 with 1 Axes>"
            ]
          },
          "metadata": {},
          "output_type": "display_data"
        }
      ],
      "source": [
        "generator = make_generator_model()\n",
        "\n",
        "noise = tf.random.normal([1,100])\n",
        "generated_image = generator(noise, training=False)\n",
        "\n",
        "plt.imshow(generated_image[0,:,:,0], cmap='gray')"
      ]
    },
    {
      "cell_type": "code",
      "execution_count": null,
      "metadata": {
        "id": "Y5lttb6cRqhB"
      },
      "outputs": [],
      "source": [
        "def make_discriminator_model():\n",
        "  model = tf.keras.Sequential()\n",
        "  model.add(layers.Conv2D(64, (5,5), strides=(2,2), padding='same',\n",
        "                          input_shape=[28,28,1]))\n",
        "  model.add(layers.LeakyReLU())\n",
        "  model.add(layers.Dropout(0.3))\n",
        "\n",
        "  model.add(layers.Conv2D(128, (5,5), strides = (2,2), padding='same'))\n",
        "  model.add(layers.LeakyReLU())\n",
        "  model.add(layers.Dropout(0.3))\n",
        "\n",
        "  model.add(layers.Flatten())\n",
        "  model.add(layers.Dense(1))\n",
        "\n",
        "  return model"
      ]
    },
    {
      "cell_type": "code",
      "execution_count": null,
      "metadata": {
        "colab": {
          "base_uri": "https://localhost:8080/"
        },
        "id": "s-QlystuUbzW",
        "outputId": "5915115e-5b4f-49c8-93c7-8ebf3eff6c73"
      },
      "outputs": [
        {
          "name": "stdout",
          "output_type": "stream",
          "text": [
            "tf.Tensor([[0.00095534]], shape=(1, 1), dtype=float32)\n"
          ]
        }
      ],
      "source": [
        "discriminator = make_discriminator_model()\n",
        "\n",
        "decision = discriminator(generated_image)\n",
        "print(decision)"
      ]
    },
    {
      "cell_type": "code",
      "execution_count": null,
      "metadata": {
        "id": "GcTQ4WeCUmDE"
      },
      "outputs": [],
      "source": [
        "cross_entropy = tf.keras.losses.BinaryCrossentropy(from_logits=True)"
      ]
    },
    {
      "cell_type": "code",
      "execution_count": null,
      "metadata": {
        "id": "PK_upVXrUvEl"
      },
      "outputs": [],
      "source": [
        "def discriminator_loss(real_output, fake_output):\n",
        "  real_loss = cross_entropy(tf.ones_like(real_output), real_output)\n",
        "  fake_loss = cross_entropy(tf.zeros_like(fake_output), fake_output)\n",
        "  total_loss = real_loss + fake_loss\n",
        "  return total_loss"
      ]
    },
    {
      "cell_type": "code",
      "execution_count": null,
      "metadata": {
        "id": "CIHYZAy-VBXX"
      },
      "outputs": [],
      "source": [
        "def generator_loss(fake_output):\n",
        "  return cross_entropy(tf.ones_like(fake_output), fake_output)"
      ]
    },
    {
      "cell_type": "code",
      "execution_count": null,
      "metadata": {
        "id": "yPVFiznJWhLX"
      },
      "outputs": [],
      "source": [
        "generator_optimizer = tf.keras.optimizers.Adam(1e-4)\n",
        "discriminator_optimizer = tf.keras.optimizers.Adam(1e-4)"
      ]
    },
    {
      "cell_type": "code",
      "execution_count": null,
      "metadata": {
        "id": "tNm0GrUPWo1x"
      },
      "outputs": [],
      "source": [
        "checkpoint_dir = './training_checkpoints'\n",
        "checkpoint_prefix = os.path.join(checkpoint_dir, \"ckpt\")\n",
        "checkpoint = tf.train.Checkpoint(generator_optimizer= generator_optimizer,\n",
        "                                 discriminator_optimizer= discriminator_optimizer,\n",
        "                                 generator= generator,\n",
        "                                 discriminator= discriminator)"
      ]
    },
    {
      "cell_type": "code",
      "execution_count": null,
      "metadata": {
        "id": "pTqJ4-fkXPvZ"
      },
      "outputs": [],
      "source": [
        "EPOCHS = 50\n",
        "noise_dim = 100\n",
        "num_examples_to_generate = 16\n",
        "\n",
        "seed = tf.random.normal([num_examples_to_generate, noise_dim])"
      ]
    },
    {
      "cell_type": "code",
      "execution_count": null,
      "metadata": {
        "id": "SN85P_5WXdWH"
      },
      "outputs": [],
      "source": [
        "@tf.function\n",
        "def train_step(images):\n",
        "    noise = tf.random.normal([BATCH_SIZE, noise_dim])\n",
        "\n",
        "    with tf.GradientTape() as gen_tape, tf.GradientTape() as disc_tape:\n",
        "      generated_images = generator(noise, training=True)\n",
        "\n",
        "      real_output = discriminator(images, training=True)\n",
        "      fake_output = discriminator(generated_images, training=True)\n",
        "\n",
        "      gen_loss = generator_loss(fake_output)\n",
        "      disc_loss = discriminator_loss(real_output, fake_output)\n",
        "\n",
        "    gradients_of_generator = gen_tape.gradient(gen_loss, generator.trainable_variables)\n",
        "    gradients_of_discriminator = disc_tape.gradient(disc_loss, discriminator.trainable_variables)\n",
        "\n",
        "    generator_optimizer.apply_gradients(zip(gradients_of_generator, generator.trainable_variables))\n",
        "    discriminator_optimizer.apply_gradients(zip(gradients_of_discriminator, discriminator.trainable_variables))"
      ]
    },
    {
      "cell_type": "code",
      "execution_count": null,
      "metadata": {
        "id": "9TGPzBJAZdb8"
      },
      "outputs": [],
      "source": [
        "def generate_and_save_images(model, epoch, test_input):\n",
        "  predictions = model(test_input, training=False)\n",
        "\n",
        "  fig = plt.figure(figsize=(4, 4))\n",
        "\n",
        "  for i in range(predictions.shape[0]):\n",
        "      plt.subplot(4, 4, i+1)\n",
        "      plt.imshow(predictions[i, :, :, 0] * 127.5 + 127.5, cmap='gray')\n",
        "      plt.axis('off')\n",
        "\n",
        "  plt.savefig('image_at_epoch_{:04d}.png'.format(epoch))\n",
        "  plt.show()"
      ]
    },
    {
      "cell_type": "code",
      "execution_count": null,
      "metadata": {
        "id": "q_snJcOJYiE0"
      },
      "outputs": [],
      "source": [
        "def train(dataset, epochs):\n",
        "  for epoch in range(epochs):\n",
        "    start = time.time()\n",
        "\n",
        "    for image_batch in dataset:\n",
        "      train_step(image_batch)\n",
        "\n",
        "    display.clear_output(wait=True)\n",
        "    generate_and_save_images(generator,\n",
        "                             epoch + 1,\n",
        "                             seed)\n",
        "\n",
        "    if (epoch + 1) % 15 == 0:\n",
        "      checkpoint.save(file_prefix = checkpoint_prefix)\n",
        "\n",
        "    print ('Time for epoch {} is {} sec'.format(epoch + 1, time.time()-start))\n",
        "\n",
        "  # Generate after the final epoch\n",
        "  display.clear_output(wait=True)\n",
        "  generate_and_save_images(generator,\n",
        "                           epochs,\n",
        "                           seed)"
      ]
    },
    {
      "cell_type": "code",
      "execution_count": null,
      "metadata": {
        "colab": {
          "background_save": true,
          "base_uri": "https://localhost:8080/",
          "height": 362
        },
        "id": "-zpYyDi3Yl_9",
        "outputId": "3dc3ed1b-adda-4b73-c74a-e4c2b7e61afb"
      },
      "outputs": [
        {
          "data": {
            "image/png": "[encoded data removed]",
            "text/plain": [
              "<Figure size 400x400 with 16 Axes>"
            ]
          },
          "metadata": {},
          "output_type": "display_data"
        },
        {
          "name": "stdout",
          "output_type": "stream",
          "text": [
            "Time for epoch 18 is 11.961142539978027 sec\n"
          ]
        }
      ],
      "source": [
        "train(train_dataset, EPOCHS)\n"
      ]
    },
    {
      "cell_type": "code",
      "execution_count": null,
      "metadata": {
        "id": "jFbGHWdEZiCK"
      },
      "outputs": [],
      "source": [
        "checkpoint.restore(tf.train.latest_checkpoint(checkpoint_dir))"
      ]
    },
    {
      "cell_type": "code",
      "execution_count": null,
      "metadata": {
        "id": "HGKpU9MIZ-cz"
      },
      "outputs": [],
      "source": [
        "def display_image(epoch_no):\n",
        "  return PIL.Image.open('image_at_epoch_{:04d}.png'.format(epoch_no))"
      ]
    },
    {
      "cell_type": "code",
      "execution_count": null,
      "metadata": {
        "id": "8vA-Sk2HZ_6q"
      },
      "outputs": [],
      "source": [
        "display_image(EPOCHS)"
      ]
    },
    {
      "cell_type": "code",
      "execution_count": null,
      "metadata": {
        "id": "XuI8nC65aOvL"
      },
      "outputs": [],
      "source": [
        "anim_file = 'dcgan.gif'\n",
        "\n",
        "with imageio.get_writer(anim_file, mode='I') as writer:\n",
        "  filenames = glob.glob('image*.png')\n",
        "  filenames = sorted(filenames)\n",
        "  for filename in filenames:\n",
        "    image = imageio.imread(filename)\n",
        "    writer.append_data(image)\n",
        "  image = imageio.imread(filename)\n",
        "  writer.append_data(image)"
      ]
    },
    {
      "cell_type": "code",
      "execution_count": null,
      "metadata": {
        "id": "3j-g-FD-aQpz"
      },
      "outputs": [],
      "source": [
        "import tensorflow_docs.vis.embed as embed\n",
        "embed.embed_file(anim_file)"
      ]
    },
    {
      "cell_type": "markdown",
      "metadata": {
        "id": "dTkc-9ddjkHQ"
      },
      "source": [
        "# SRGAN"
      ]
    },
    {
      "cell_type": "code",
      "execution_count": null,
      "metadata": {
        "id": "D4STysq6kGw7"
      },
      "outputs": [],
      "source": [
        "import math\n",
        "from tensorflow import keras\n",
        "from tensorflow.keras.preprocessing.image import load_img, array_to_img, img_to_array\n",
        "from tensorflow.keras.preprocessing import image_dataset_from_directory\n",
        "\n",
        "from IPython.display import display"
      ]
    },
    {
      "cell_type": "code",
      "execution_count": null,
      "metadata": {
        "id": "C_tZOmfskc_3"
      },
      "outputs": [],
      "source": [
        "dataset_url = 'http://www.eecs.berkeley.edu/Research/Projects/CS/vision/grouping/BSR/BSR_bsds500.tgz'\n",
        "data_dir = keras.utils.get_file(origin=dataset_url, fname=\"BSR\", untar=True)\n",
        "root_dir = os.path.join(data_dir, \"BSDS500/data\")"
      ]
    },
    {
      "cell_type": "code",
      "execution_count": null,
      "metadata": {
        "id": "bja8BTaqlEnZ"
      },
      "outputs": [],
      "source": [
        "crop_size = 300\n",
        "upscale_factor = 3\n",
        "input_size = crop_size // upscale_factor\n",
        "batch_size = 8\n",
        "\n",
        "train_ds = image_dataset_from_directory(\n",
        "    root_dir,\n",
        "    batch_size = batch_size,\n",
        "    image_size=(crop_size, crop_size),\n",
        "    validation_split = 0.2,\n",
        "    subset=\"training\",\n",
        "    seed=1337,\n",
        "    label_mode=None\n",
        ")\n",
        "\n",
        "valid_ds = image_dataset_from_directory(\n",
        "    root_dir,\n",
        "    batch_size = batch_size,\n",
        "    image_size=(crop_size, crop_size),\n",
        "    validation_split = 0.2,\n",
        "    subset=\"validation\",\n",
        "    seed=1337,\n",
        "    label_mode=None\n",
        ")"
      ]
    },
    {
      "cell_type": "code",
      "execution_count": null,
      "metadata": {
        "id": "oPV6pbU5lvvU"
      },
      "outputs": [],
      "source": [
        "def scaling(input_image):\n",
        "  input_image = input_image/255.0\n",
        "  return input_image\n",
        "\n",
        "train_ds = train_ds.map(scaling)\n",
        "valid_ds = valid_ds.map(scaling)"
      ]
    },
    {
      "cell_type": "code",
      "execution_count": null,
      "metadata": {
        "id": "wWQb4WztmBeX"
      },
      "outputs": [],
      "source": [
        "for batch in train_ds.take(1):\n",
        "  for img in batch:\n",
        "    display(array_to_img(img))"
      ]
    },
    {
      "cell_type": "code",
      "execution_count": null,
      "metadata": {
        "id": "oPpPEyx6mLCW"
      },
      "outputs": [],
      "source": [
        "dataset = os.path.join(root_dir, \"images\")\n",
        "test_path = os.path.join(dataset, \"test\")\n",
        "test_img_paths = sorted(\n",
        "    [\n",
        "        os.path.join(test_path, fname)\n",
        "        for fname in os.listdir(test_path)\n",
        "        if fname.endswith(\".jpg\")\n",
        "    ]\n",
        ")"
      ]
    },
    {
      "cell_type": "code",
      "execution_count": null,
      "metadata": {
        "id": "aqwmu2eUmtMk"
      },
      "outputs": [],
      "source": [
        "def process_input(input, input_size, upscale_factor):\n",
        "  input = tf.image.rgb_to_yuv(input)\n",
        "  last_dimension_axis = len(input.shape)-1\n",
        "  y,u,v = tf.split(input,3,axis=last_dimension_axis)\n",
        "  return tf.image.resize(y, [input_size, input_size], method='area')"
      ]
    },
    {
      "cell_type": "code",
      "execution_count": null,
      "metadata": {
        "id": "k-xEhhr5nGmv"
      },
      "outputs": [],
      "source": [
        "def process_target(input):\n",
        "  input = tf.image.rgb_to_yuv(input)\n",
        "  last_dimension_axis = len(input.shape)-1\n",
        "  y,u,v = tf.split(input,3,axis=last_dimension_axis)\n",
        "  return y"
      ]
    },
    {
      "cell_type": "code",
      "execution_count": null,
      "metadata": {
        "id": "wQt9reqMnRYp"
      },
      "outputs": [],
      "source": [
        "train_ds = train_ds.map(\n",
        "    lambda x: (process_input(x, input_size, upscale_factor), process_target(x))\n",
        "\n",
        ")\n",
        "train_ds = train_ds.prefetch(buffer_size=32)\n",
        "\n",
        "valid_ds = valid_ds.map(\n",
        "    lambda x: (process_input(x, input_size, upscale_factor), process_target(x))\n",
        ")\n",
        "valid_ds = valid_ds.prefetch(buffer_size=32)"
      ]
    },
    {
      "cell_type": "code",
      "execution_count": null,
      "metadata": {
        "id": "L7GUcpsUn0uy"
      },
      "outputs": [],
      "source": [
        "for batch in train_ds.take(1):\n",
        "  for img in batch[0]:\n",
        "    display(array_to_img(img))\n",
        "  for img in batch[1]:\n",
        "    display(array_to_img(img))"
      ]
    },
    {
      "cell_type": "code",
      "execution_count": null,
      "metadata": {
        "id": "yaPU4wEeoDJm"
      },
      "outputs": [],
      "source": [
        "def get_model(upscale_factor=3, channels=1):\n",
        "  conv_args={\n",
        "      \"activation\":\"relu\",\n",
        "      \"kernel_initializer\": \"Orthogonal\",\n",
        "      \"padding\": \"same\",\n",
        "  }\n",
        "  inputs = keras.Input(shape=(None, None, channels))\n",
        "  x = layers.Conv2D(64, 5, **conv_args)(inputs)\n",
        "  x = layers.Conv2D(64, 3, **conv_args)(x)\n",
        "  x = layers.Conv2D(32, 3, **conv_args)(x)\n",
        "  x = layers.Conv2D(channels*(upscale_factor**2), 3, **conv_args)(x)\n",
        "  outputs = tf.nn.depth_to_space(x, upscale_factor)\n",
        "\n",
        "  return keras.Model(inputs, outputs)"
      ]
    },
    {
      "cell_type": "code",
      "execution_count": null,
      "metadata": {
        "id": "9DAJybCxpDc9"
      },
      "outputs": [],
      "source": [
        "from mpl_toolkits.axes_grid1.inset_locator import zoomed_inset_axes, mark_inset\n",
        "import PIL"
      ]
    },
    {
      "cell_type": "code",
      "execution_count": null,
      "metadata": {
        "id": "JpnwNUp6pffs"
      },
      "outputs": [],
      "source": [
        "def plot_results(img, prefix, title):\n",
        "  img_array = img_to_array(img)\n",
        "  img_array = img_array.astype(\"float32\")/255.0\n",
        "\n",
        "  fig, ax = plt.subplots()\n",
        "  im = ax.imshow(img_array[::-1], origin=\"lower\")\n",
        "  plt.title(title)\n",
        "  axins = zoomed_inset_axes(ax,2,loc=2)\n",
        "  axins.imshow(img_array[::-1], origin=\"lower\")\n",
        "\n",
        "  x1,x2,y1,y2 = 200,300,100,200\n",
        "  axins.set_xlim(x1,x2)\n",
        "  axins.set_ylim(y1,y2)\n",
        "\n",
        "  plt.yticks(visible=False)\n",
        "  plt.xticks(visible=False)\n",
        "\n",
        "  mark_inset(ax, axins, loc1=1, loc2=3, fc=\"none\", ec=\"blue\")\n",
        "  plt.savefig(str(prefix) + \"-\" +title+\".png\")\n",
        "  plt.show()"
      ]
    },
    {
      "cell_type": "code",
      "execution_count": null,
      "metadata": {
        "id": "DbP81DV4qcds"
      },
      "outputs": [],
      "source": [
        "def get_lowres_image(img, upscale_factor):\n",
        "  return img.resize(\n",
        "      (img.size[0]// upscale_factor, img.size[1]// upscale_factor),\n",
        "      PIL.Image.BICUBIC,\n",
        "  )"
      ]
    },
    {
      "cell_type": "code",
      "execution_count": null,
      "metadata": {
        "id": "LwOGtzpcqrX9"
      },
      "outputs": [],
      "source": [
        "def upscale_image(model, img):\n",
        "  ycbcr = img.convert(\"YCbCr\")\n",
        "  y, cb, cr = ycbcr.split()\n",
        "  y = img_to_array(y)\n",
        "  y = y.astype(\"float32\")/255.0\n",
        "\n",
        "  input = np.expand_dims(y,axis=0)\n",
        "  out = model.predict(input)\n",
        "\n",
        "  out_img_y = out[0]\n",
        "  out_img_y *= 255.0\n",
        "\n",
        "  out_img_y = out_img_y.clip(0,255)\n",
        "  out_img_y = out_img_y.reshape((np.shape(out_img_y)[0], np.shape(out_img_y)[1]))\n",
        "  out_img_y = PIL.Image.fromarray(np.uint8(out_img_y), mode=\"L\")\n",
        "  out_img_cb = cb.resize(out_img_y.size, PIL.Image.BICUBIC)\n",
        "  out_img_cr = cr.resize(out_img_y.size, PIL.Image.BICUBIC)\n",
        "  out_img = PIL.Image.merge(\"YCbCr\", (out_img_y, out_img_cb, out_img_cr)).convert(\n",
        "      \"RGB\"\n",
        "  )\n",
        "  return out_img"
      ]
    },
    {
      "cell_type": "code",
      "execution_count": null,
      "metadata": {
        "id": "XgpFsG1PsDGL"
      },
      "outputs": [],
      "source": [
        "class ESPCNCallback(keras.callbacks.Callback):\n",
        "  def __init__(self):\n",
        "    super(ESPCNCallback,self).__init__()\n",
        "    self.test_img = get_lowres_image(load_img(test_img_paths[0]), upscale_factor)\n",
        "\n",
        "  def on_epoch_begin(self, epoch, logs=None):\n",
        "    self.psnr = []\n",
        "\n",
        "  def on_epoch_end(self, epoch, logs=None):\n",
        "    print(\"Mean PSNR ofr epoch: %.2f\" % (np.mean(self.psnr)))\n",
        "\n",
        "    if epoch %20 == 0:\n",
        "      prediction = upscale_image(self.model, self.test_img)\n",
        "      plot_results(prediction, \"epoch-\" + str(epoch), \"prediction\")\n",
        "\n",
        "  def on_test_batch_end(self, batch, logs=None):\n",
        "    self.psnr.append(10*math.log10(1/logs['loss']))"
      ]
    },
    {
      "cell_type": "code",
      "execution_count": null,
      "metadata": {
        "id": "vaS8yYoAtIKz"
      },
      "outputs": [],
      "source": [
        "early_stopping_callback = keras.callbacks.EarlyStopping(monitor=\"loss\",\n",
        "                                                        patience= 10)\n",
        "\n",
        "checkpoint_filepath = \"/tmp/checkpoint\"\n",
        "model_checkpoint_callback = keras.callbacks.ModelCheckpoint(\n",
        "    filepath = checkpoint_filepath,\n",
        "    save_weights_only=True,\n",
        "    monitor=\"loss\",\n",
        "    mode=\"min\",\n",
        "    save_best_only=True\n",
        ")\n",
        "model= get_model(upscale_factor=upscale_factor, channels=1)\n",
        "\n",
        "model.summary()\n",
        "callbacks = [ESPCNCallback(), early_stopping_callback,model_checkpoint_callback]\n",
        "loss_fn = keras.losses.MeanSquaredError()\n",
        "optimizer = keras.optimizers.Adam(learning_rate = 0.001)"
      ]
    },
    {
      "cell_type": "code",
      "execution_count": null,
      "metadata": {
        "id": "9P9SMNbGt1r1"
      },
      "outputs": [],
      "source": [
        "epochs=50\n",
        "\n",
        "model.compile(\n",
        "    optimizer=optimizer, loss=loss_fn,\n",
        ")\n",
        "model.fit(\n",
        "    train_ds, epochs=epochs, callbacks=callbacks, validation_data=valid_ds, verbose=2\n",
        ")\n",
        "model.load_weights(checkpoint_filepath)"
      ]
    },
    {
      "cell_type": "code",
      "execution_count": null,
      "metadata": {
        "id": "zHJurg-muKY6"
      },
      "outputs": [],
      "source": []
    }
  ],
  "metadata": {
    "accelerator": "GPU",
    "colab": {
      "provenance": []
    },
    "kernelspec": {
      "display_name": "Python 3",
      "name": "python3"
    },
    "language_info": {
      "name": "python"
    }
  },
  "nbformat": 4,
  "nbformat_minor": 0
}